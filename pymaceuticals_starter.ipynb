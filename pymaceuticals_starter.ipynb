{
 "cells": [
  {
   "cell_type": "markdown",
   "metadata": {},
   "source": [
    "## Observations and Insights "
   ]
  },
  {
   "cell_type": "markdown",
   "metadata": {},
   "source": []
  },
  {
   "cell_type": "code",
   "execution_count": null,
   "metadata": {},
   "outputs": [],
   "source": [
    "# Dependencies and Setup\n",
    "import matplotlib.pyplot as plt\n",
    "import pandas as pd\n",
    "import scipy.stats as st\n",
    "import numpy as np\n",
    "\n",
    "# Study data files\n",
    "mouse_metadata_path = \"data/Mouse_metadata.csv\"\n",
    "study_results_path = \"data/Study_results.csv\"\n",
    "\n",
    "# Read the mouse data and the study results\n",
    "mouse_metadata = pd.read_csv(mouse_metadata_path)\n",
    "study_results = pd.read_csv(study_results_path)\n",
    "\n",
    "# Combine the data into a single dataset (1893)\n",
    "combined_data_df = pd.merge(mouse_metadata, study_results, on='Mouse ID')\n",
    "# Display the data table for preview\n",
    "combined_data_df\n",
    "#mouse_metadata #249\n",
    "#study_results #1893"
   ]
  },
  {
   "cell_type": "code",
   "execution_count": null,
   "metadata": {},
   "outputs": [],
   "source": [
    "# Checking the number of mice.\n",
    "len(combined_data_df[\"Mouse ID\"].unique())"
   ]
  },
  {
   "cell_type": "code",
   "execution_count": null,
   "metadata": {},
   "outputs": [],
   "source": [
    "# Getting the duplicate mice by ID number that shows up for Mouse ID and Timepoint. \n",
    "combined_data_df_dup = combined_data_df[combined_data_df.duplicated(subset=[\"Mouse ID\",\"Timepoint\"], keep=False)]\n",
    "combined_data_df_dup[\"Mouse ID\"].drop_duplicates()"
   ]
  },
  {
   "cell_type": "code",
   "execution_count": null,
   "metadata": {},
   "outputs": [],
   "source": [
    "# Optional: Get all the data for the duplicate mouse ID. \n",
    "#duplicate mouse df\n",
    "combined_data_df_dup\n"
   ]
  },
  {
   "cell_type": "code",
   "execution_count": null,
   "metadata": {},
   "outputs": [],
   "source": [
    "# Create a clean DataFrame by dropping the duplicate mouse by its ID.\n",
    "# No duplicate data frame would suppress mouse id found in the duplicate mouse df\n",
    "combined_data_df_no_dup = combined_data_df.loc[(~combined_data_df[\"Mouse ID\"].isin(combined_data_df_dup[\"Mouse ID\"]))]\n",
    "combined_data_df_no_dup"
   ]
  },
  {
   "cell_type": "code",
   "execution_count": null,
   "metadata": {},
   "outputs": [],
   "source": [
    "# Checking the number of mice in the clean DataFrame.\n",
    "len(combined_data_df_no_dup[\"Mouse ID\"].unique())"
   ]
  },
  {
   "cell_type": "markdown",
   "metadata": {},
   "source": [
    "## Summary Statistics"
   ]
  },
  {
   "cell_type": "code",
   "execution_count": null,
   "metadata": {},
   "outputs": [],
   "source": [
    "# Generate a summary statistics table of mean, median, variance, standard deviation, and SEM of the tumor volume for each regimen\n",
    "stat1 = combined_data_df_no_dup.groupby([\"Drug Regimen\"])\n",
    "stat1[\"Tumor Volume (mm3)\"].mean()\n",
    "stat1[\"Tumor Volume (mm3)\"].median()\n",
    "stat1[\"Tumor Volume (mm3)\"].var()\n",
    "stat1[\"Tumor Volume (mm3)\"].std()\n",
    "stat1[\"Tumor Volume (mm3)\"].sem()\n",
    "summaryStat = pd.DataFrame({\"Mean\":stat1[\"Tumor Volume (mm3)\"].mean(),\"Median\":stat1[\"Tumor Volume (mm3)\"].median(),\"Variance\":stat1[\"Tumor Volume (mm3)\"].var(),\"Standard Deviation\":stat1[\"Tumor Volume (mm3)\"].std(),\"SEM\":stat1[\"Tumor Volume (mm3)\"].sem()})\n",
    "summaryStat\n",
    "summaryStat.rename_axis(\"\")\n",
    "# This method is the most straighforward, creating multiple series and putting them all together at the end.\n",
    "\n"
   ]
  },
  {
   "cell_type": "code",
   "execution_count": null,
   "metadata": {},
   "outputs": [],
   "source": [
    "# Generate a summary statistics table of mean, median, variance, standard deviation, and SEM of the tumor volume for each regimen\n",
    "\n",
    "# This method produces everything in a single groupby function\n",
    "# Renaming aggregate columns using dictionary unpacking\n",
    "combined_data_df_no_dup.groupby([\"Drug Regimen\"]).agg(**{'Mean':(\"Tumor Volume (mm3)\",\"mean\"),'Median':(\"Tumor Volume (mm3)\",\"median\"),'Variance':(\"Tumor Volume (mm3)\",\"var\"),'Standard Deviation':(\"Tumor Volume (mm3)\",\"std\"),'SEM':(\"Tumor Volume (mm3)\",\"sem\")})\n"
   ]
  },
  {
   "cell_type": "markdown",
   "metadata": {},
   "source": [
    "## Bar and Pie Charts"
   ]
  },
  {
   "cell_type": "code",
   "execution_count": null,
   "metadata": {},
   "outputs": [],
   "source": [
    "# Generate a bar plot showing the total number of mice for each treatment throughout the course of the study using pandas. \n",
    "x_axis = np.arange(len(stat1[\"Mouse ID\"]))\n",
    "stat1[\"Mouse ID\"].count()\n",
    "total_mice_plot = stat1[\"Mouse ID\"].count().plot(kind=\"bar\", figsize=(6,3))\n",
    "plt.title(\"Total Mices Vs Drug Regimen\")\n",
    "plt.xlabel(\"Drug Regimen\")\n",
    "plt.ylabel(\"Number of Mices\")\n",
    "plt.xlim(-0.75, len(x_axis) -.25)\n",
    "plt.ylim(0, max(stat1[\"Mouse ID\"].count()) + 10)\n",
    "plt.tight_layout()"
   ]
  },
  {
   "cell_type": "code",
   "execution_count": null,
   "metadata": {},
   "outputs": [],
   "source": [
    "# Generate a bar plot showing the total number of mice for each treatment throughout the course of the study using pyplot.\n",
    "# Set x axis and tick locations\n",
    "# Tell matplotlib where we would like to place each of our x axis headers\n",
    "x_axis = np.arange(len(stat1[\"Mouse ID\"]))\n",
    "plt.bar(x_axis, stat1[\"Mouse ID\"].count(), color='r', alpha=0.5, align=\"center\")\n",
    "plt.xticks(x_axis, stat1[\"Drug Regimen\"].max(), rotation=\"vertical\")\n",
    "\n",
    "plt.title(\"Total Mices Vs Drug Regimen\")\n",
    "plt.xlabel(\"Drug Regimen\")\n",
    "plt.ylabel(\"Number of Mices\")\n",
    "\n",
    "plt.xlim(-0.75, len(x_axis) -.25)\n",
    "plt.ylim(0, max(stat1[\"Mouse ID\"].count()) + 10)\n",
    "plt.tight_layout()\n",
    "plt.show"
   ]
  },
  {
   "cell_type": "code",
   "execution_count": null,
   "metadata": {},
   "outputs": [],
   "source": [
    "# Generate a pie plot showing the distribution of female versus male mice using pandas\n",
    "mice_group = combined_data_df_no_dup.groupby([\"Sex\"])\n",
    "mice_group[\"Mouse ID\"].count() \n",
    "\n",
    "mice_sex_pie = mice_group[\"Mouse ID\"].count().plot(kind=\"pie\",autopct=\"%1.1f%%\",title=\"Female Vs Male Mice DIstribution\",legend=True)\n",
    "mice_sex_pie.set_ylabel(\"\")\n",
    "plt.legend(mice_group.Sex.max(),loc=\"best\")\n",
    "plt.tight_layout()\n",
    "plt.axis(\"equal\")\n",
    "plt.show()\n"
   ]
  },
  {
   "cell_type": "code",
   "execution_count": null,
   "metadata": {},
   "outputs": [],
   "source": [
    "# Generate a pie plot showing the distribution of female versus male mice using pyplot\n",
    "plt.pie(mice_group[\"Mouse ID\"].count(),autopct=\"%1.1f%%\")\n",
    "mice_sex_pie.set_ylabel(\"\")\n",
    "plt.legend(mice_group.Sex.max(),loc=\"best\")\n",
    "plt.title(\"Female Vs Male Mice DIstribution\")\n",
    "plt.tight_layout()\n",
    "plt.axis(\"equal\")\n",
    "plt.show()\n"
   ]
  },
  {
   "cell_type": "markdown",
   "metadata": {},
   "source": [
    "## Quartiles, Outliers and Boxplots"
   ]
  },
  {
   "cell_type": "code",
   "execution_count": null,
   "metadata": {},
   "outputs": [],
   "source": [
    "# Calculate the final tumor volume of each mouse across four of the treatment regimens:  \n",
    "# Capomulin, Ramicane, Infubinol, and Ceftamin\n",
    "# Group by Drug Regimen and Mouse ID and only interested in the maximum Timepoint row\n",
    "finalTimePointPerMouseDrug = combined_data_df_no_dup[combined_data_df_no_dup[\"Drug Regimen\"].isin([\"Capomulin\",\"Ramicane\",\"Infubinol\",\"Ceftamin\"])].groupby([\"Drug Regimen\",\"Mouse ID\"])[\"Timepoint\"].max()\n",
    "\n",
    "finalTimePointPerMouseDrug\n",
    "# Merge this group df with the original dataframe to get the tumor volume at the last timepoint\n",
    "lastTimePoint = pd.merge(combined_data_df_no_dup,finalTimePointPerMouseDrug,on=[\"Drug Regimen\",\"Mouse ID\",\"Timepoint\"])\n",
    "lastTimePoint"
   ]
  },
  {
   "cell_type": "code",
   "execution_count": 33,
   "metadata": {},
   "outputs": [
    {
     "output_type": "stream",
     "name": "stdout",
     "text": [
      "The lower quartile of tumor volumes is: 32.37735684\nThe upper quartile of tumor volumes is: 40.1592203\nThe interquartile range of tumor volumess is: 7.781863460000004\nThe the median of tumor volumes is: 38.125164399999996 \nValues below 20.70456164999999 could be outliers.\nValues above 51.83201549 could be outliers.\n"
     ]
    }
   ],
   "source": [
    "# Put treatments into a list for for loop (and later for plot labels)\n",
    "treatmentList = list(lastTimePoint[\"Drug Regimen\"].unique())\n",
    "\n",
    "cap = lastTimePoint[lastTimePoint[\"Drug Regimen\"]==\"Capomulin\"][\"Tumor Volume (mm3)\"]\n",
    "ram = lastTimePoint[lastTimePoint[\"Drug Regimen\"]==\"Ramicane\"][\"Tumor Volume (mm3)\"]\n",
    "inf = lastTimePoint[lastTimePoint[\"Drug Regimen\"]==\"Infubinol\"][\"Tumor Volume (mm3)\"]\n",
    "cef = lastTimePoint[lastTimePoint[\"Drug Regimen\"]==\"Ceftamin\"][\"Tumor Volume (mm3)\"]\n",
    "\n",
    "cquartiles = cap.quantile([.25,.5,.75])\n",
    "lowerq = cquartiles[0.25]\n",
    "upperq = cquartiles[0.75]\n",
    "iqr = upperq-lowerq\n",
    "\n",
    "print(f\"The lower quartile of tumor volumes is: {lowerq}\")\n",
    "print(f\"The upper quartile of tumor volumes is: {upperq}\")\n",
    "print(f\"The interquartile range of tumor volumess is: {iqr}\")\n",
    "print(f\"The the median of tumor volumes is: {cquartiles[0.5]} \")\n",
    "\n",
    "lower_bound = lowerq - (1.5*iqr)\n",
    "upper_bound = upperq + (1.5*iqr)\n",
    "print(f\"Values below {lower_bound} could be outliers.\")\n",
    "print(f\"Values above {upper_bound} could be outliers.\")\n",
    "\n",
    "\n",
    "\n",
    "# Create empty list to fill with tumor vol data (for plotting)\n",
    "#tumorVolData = [[cap],[ram],[inf],[cef]]\n",
    "\n",
    "#tumorVolData\n",
    "#for drug in lastTimePoint:\n",
    "#    print(drug[\"Drug Rergimen\"])\n",
    "\n",
    "\n",
    "\n",
    "# Calculate the IQR and quantitatively determine if there are any potential outliers. \n",
    "#quartiles = tumorVolData.quantile([.25,.5,.75])\n",
    "\n",
    "#lowerq = quartiles[0.25]\n",
    "#upperq = quartiles[0.75]\n",
    "#iqr = upperq-lowerq\n",
    "\n",
    "# Locate the rows which contain mice on each drug and get the tumor volumes\n",
    "    \n",
    "    \n",
    "# add subset \n",
    "    \n",
    "    \n",
    "# Determine outliers using upper and lower bounds\n",
    "\n",
    "\n",
    "#print(f\"The lower quartile of tumor volumes is: {lowerq}\")\n",
    "#print(f\"The upper quartile of tumor volumes is: {upperq}\")\n",
    "#print(f\"The interquartile range of tumor volumess is: {iqr}\")\n",
    "#print(f\"The the median of tumor volumes is: {quartiles[0.5]} \")\n",
    "\n",
    "#lower_bound = lowerq - (1.5*iqr)\n",
    "#upper_bound = upperq + (1.5*iqr)\n",
    "#print(f\"Values below {lower_bound} could be outliers.\")\n",
    "#print(f\"Values above {upper_bound} could be outliers.\")\n",
    "\n",
    "    \n",
    "    \n",
    "    "
   ]
  },
  {
   "cell_type": "code",
   "execution_count": null,
   "metadata": {},
   "outputs": [],
   "source": [
    "# Generate a box plot of the final tumor volume of each mouse across four regimens of interest\n",
    "fig1, ax1 = plt.subplots()\n",
    "#ax1.set_title('Reaction Times at Baseball Batting Cage')\n",
    "#ax1.set_ylabel('Reaction Time (ms)')\n",
    "ax1.boxplot(tumorVolData)\n",
    "plt.show()\n"
   ]
  },
  {
   "cell_type": "markdown",
   "metadata": {},
   "source": [
    "## Line and Scatter Plots"
   ]
  },
  {
   "cell_type": "code",
   "execution_count": null,
   "metadata": {},
   "outputs": [],
   "source": [
    "# Generate a line plot of time point versus tumor volume for a mouse treated with Capomulin\n"
   ]
  },
  {
   "cell_type": "code",
   "execution_count": null,
   "metadata": {},
   "outputs": [],
   "source": [
    "# Generate a scatter plot of mouse weight versus average tumor volume for the Capomulin regimen\n"
   ]
  },
  {
   "cell_type": "markdown",
   "metadata": {},
   "source": [
    "## Correlation and Regression"
   ]
  },
  {
   "cell_type": "code",
   "execution_count": null,
   "metadata": {},
   "outputs": [],
   "source": [
    "# Calculate the correlation coefficient and linear regression model \n",
    "# for mouse weight and average tumor volume for the Capomulin regimen\n"
   ]
  },
  {
   "cell_type": "code",
   "execution_count": null,
   "metadata": {},
   "outputs": [],
   "source": []
  }
 ],
 "metadata": {
  "anaconda-cloud": {},
  "kernelspec": {
   "display_name": "Python 3",
   "language": "python",
   "name": "python3"
  },
  "language_info": {
   "codemirror_mode": {
    "name": "ipython",
    "version": 3
   },
   "file_extension": ".py",
   "mimetype": "text/x-python",
   "name": "python",
   "nbconvert_exporter": "python",
   "pygments_lexer": "ipython3",
   "version": "3.8.5-final"
  }
 },
 "nbformat": 4,
 "nbformat_minor": 2
}